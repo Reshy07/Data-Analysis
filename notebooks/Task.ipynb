{
 "cells": [
  {
   "cell_type": "code",
   "execution_count": 1,
   "id": "b7927ada-9a59-4b4c-8ff6-0eba25a98f65",
   "metadata": {},
   "outputs": [],
   "source": [
    "import pandas as pd\n",
    "import numpy as np\n"
   ]
  },
  {
   "cell_type": "code",
   "execution_count": 15,
   "id": "84d874fb-8620-4af9-86b4-e59c1f25429c",
   "metadata": {},
   "outputs": [],
   "source": [
    "df = pd.read_csv('../data/FIFA WC 2022 Players Stats.csv')\n"
   ]
  },
  {
   "cell_type": "code",
   "execution_count": 20,
   "id": "0525d33f-23e9-4f9a-aa8e-75e96bbd0027",
   "metadata": {},
   "outputs": [
    {
     "name": "stdout",
     "output_type": "stream",
     "text": [
      "<class 'pandas.core.frame.DataFrame'>\n",
      "RangeIndex: 814 entries, 0 to 813\n",
      "Data columns (total 18 columns):\n",
      " #   Column                       Non-Null Count  Dtype  \n",
      "---  ------                       --------------  -----  \n",
      " 0   Nationality                  814 non-null    object \n",
      " 1   FIFA Ranking                 814 non-null    int64  \n",
      " 2   National Team Kit Sponsor    813 non-null    object \n",
      " 3   Position                     814 non-null    object \n",
      " 4   National Team Jersey Number  813 non-null    float64\n",
      " 5   Player DOB                   814 non-null    object \n",
      " 6   Club                         814 non-null    object \n",
      " 7   Player Name                  814 non-null    object \n",
      " 8    Appearances                 814 non-null    object \n",
      " 9   Goals Scored                 813 non-null    object \n",
      " 10  Assists Provided             813 non-null    object \n",
      " 11  Dribbles per 90              813 non-null    object \n",
      " 12  Interceptions per 90         813 non-null    object \n",
      " 13  Tackles per 90               813 non-null    object \n",
      " 14  Total Duels Won per 90       813 non-null    object \n",
      " 15  Save Percentage              812 non-null    object \n",
      " 16  Clean Sheets                 814 non-null    object \n",
      " 17  Brand Sponsor/Brand Used     813 non-null    object \n",
      "dtypes: float64(1), int64(1), object(16)\n",
      "memory usage: 114.6+ KB\n",
      "None\n"
     ]
    }
   ],
   "source": [
    "print(df.info())"
   ]
  },
  {
   "cell_type": "code",
   "execution_count": 22,
   "id": "c225889c-5c2d-483f-9095-c5703aae3cb8",
   "metadata": {},
   "outputs": [
    {
     "name": "stdout",
     "output_type": "stream",
     "text": [
      "       FIFA Ranking   National Team Jersey Number\n",
      "count     814.000000                   813.000000\n",
      "mean       21.713759                    13.507995\n",
      "std        16.159655                     7.523788\n",
      "min         1.000000                     1.000000\n",
      "25%         9.000000                     7.000000\n",
      "50%        18.000000                    14.000000\n",
      "75%        29.000000                    20.000000\n",
      "max        60.000000                    26.000000\n"
     ]
    }
   ],
   "source": [
    "print(df.describe())"
   ]
  },
  {
   "cell_type": "code",
   "execution_count": 24,
   "id": "66094ec9-2d79-439d-b64d-7d2c50213f79",
   "metadata": {},
   "outputs": [
    {
     "name": "stdout",
     "output_type": "stream",
     "text": [
      "  Nationality   FIFA Ranking  National Team Kit Sponsor Position  \\\n",
      "0    Argentina              2                    Adidas       GK   \n",
      "1    Argentina              2                    Adidas       GK   \n",
      "2    Argentina              2                    Adidas       GK   \n",
      "3    Argentina              2                    Adidas       DF   \n",
      "4    Argentina              2                    Adidas       DF   \n",
      "\n",
      "   National Team Jersey Number    Player DOB        Club        Player Name   \\\n",
      "0                         23.0   Sep 2, 1992  Aston Villa  Emiliano Martinez   \n",
      "1                          1.0  Oct 16, 1986        River      Franco Armani   \n",
      "2                         12.0  May 20, 1992   Villarreal     Geronimo Rulli   \n",
      "3                         19.0  Feb 12, 1988      Benfica   Nicolas Otamendi   \n",
      "4                          8.0  Oct 28, 1991      Sevilla       Marcos Acuna   \n",
      "\n",
      "   Appearances Goals Scored  Assists Provided  Dribbles per 90  \\\n",
      "0            7             0                 0            0.00   \n",
      "1            0             -                 -               -   \n",
      "2            0             -                 -               -   \n",
      "3            7             0                 1            0.33   \n",
      "4            6             0                 0            1.45   \n",
      "\n",
      "  Interceptions per 90 Tackles per 90 Total Duels Won per 90 Save Percentage  \\\n",
      "0                 0.00           0.00                   0.65          46.67%   \n",
      "1                    -              -                      -               -   \n",
      "2                    -              -                      -               -   \n",
      "3                 1.17           1.30                   7.17               -   \n",
      "4                 0.48           2.90                   7.97               -   \n",
      "\n",
      "  Clean Sheets Brand Sponsor/Brand Used  \n",
      "0          43%                   Adidas  \n",
      "1            -                     Nike  \n",
      "2            -                   Adidas  \n",
      "3            -                     Nike  \n",
      "4            -                     Nike  \n"
     ]
    }
   ],
   "source": [
    "print(df.head())"
   ]
  },
  {
   "cell_type": "code",
   "execution_count": 30,
   "id": "6edc1f78-e7a7-4978-885b-8fb6a660cc0a",
   "metadata": {},
   "outputs": [
    {
     "data": {
      "text/plain": [
       "Index(['Nationality ', 'FIFA Ranking ', 'National Team Kit Sponsor',\n",
       "       'Position', 'National Team Jersey Number', 'Player DOB', 'Club ',\n",
       "       'Player Name ', ' Appearances', 'Goals Scored ', 'Assists Provided ',\n",
       "       'Dribbles per 90', 'Interceptions per 90', 'Tackles per 90',\n",
       "       'Total Duels Won per 90', 'Save Percentage', 'Clean Sheets',\n",
       "       'Brand Sponsor/Brand Used'],\n",
       "      dtype='object')"
      ]
     },
     "execution_count": 30,
     "metadata": {},
     "output_type": "execute_result"
    }
   ],
   "source": [
    "df.columns"
   ]
  },
  {
   "cell_type": "code",
   "execution_count": 34,
   "id": "fb259343-1331-46e1-8333-0995a84d311e",
   "metadata": {},
   "outputs": [
    {
     "data": {
      "text/plain": [
       "Nationality                     object\n",
       "FIFA Ranking                     int64\n",
       "National Team Kit Sponsor       object\n",
       "Position                        object\n",
       "National Team Jersey Number    float64\n",
       "Player DOB                      object\n",
       "Club                            object\n",
       "Player Name                     object\n",
       " Appearances                    object\n",
       "Goals Scored                    object\n",
       "Assists Provided                object\n",
       "Dribbles per 90                 object\n",
       "Interceptions per 90            object\n",
       "Tackles per 90                  object\n",
       "Total Duels Won per 90          object\n",
       "Save Percentage                 object\n",
       "Clean Sheets                    object\n",
       "Brand Sponsor/Brand Used        object\n",
       "dtype: object"
      ]
     },
     "execution_count": 34,
     "metadata": {},
     "output_type": "execute_result"
    }
   ],
   "source": [
    "df.dtypes"
   ]
  },
  {
   "cell_type": "code",
   "execution_count": 36,
   "id": "46005124-e665-41d9-b4ac-7610f8731925",
   "metadata": {},
   "outputs": [
    {
     "data": {
      "text/plain": [
       "Nationality                     32\n",
       "FIFA Ranking                    32\n",
       "National Team Kit Sponsor       10\n",
       "Position                         4\n",
       "National Team Jersey Number     26\n",
       "Player DOB                     771\n",
       "Club                           319\n",
       "Player Name                    814\n",
       " Appearances                    11\n",
       "Goals Scored                    10\n",
       "Assists Provided                 7\n",
       "Dribbles per 90                205\n",
       "Interceptions per 90           162\n",
       "Tackles per 90                 230\n",
       "Total Duels Won per 90         360\n",
       "Save Percentage                 31\n",
       "Clean Sheets                    15\n",
       "Brand Sponsor/Brand Used        15\n",
       "dtype: int64"
      ]
     },
     "execution_count": 36,
     "metadata": {},
     "output_type": "execute_result"
    }
   ],
   "source": [
    "df.nunique()"
   ]
  },
  {
   "cell_type": "code",
   "execution_count": 38,
   "id": "75587779-aba8-4ada-a68a-2db70062a781",
   "metadata": {},
   "outputs": [
    {
     "data": {
      "text/plain": [
       "Nationality                    0\n",
       "FIFA Ranking                   0\n",
       "National Team Kit Sponsor      1\n",
       "Position                       0\n",
       "National Team Jersey Number    1\n",
       "Player DOB                     0\n",
       "Club                           0\n",
       "Player Name                    0\n",
       " Appearances                   0\n",
       "Goals Scored                   1\n",
       "Assists Provided               1\n",
       "Dribbles per 90                1\n",
       "Interceptions per 90           1\n",
       "Tackles per 90                 1\n",
       "Total Duels Won per 90         1\n",
       "Save Percentage                2\n",
       "Clean Sheets                   0\n",
       "Brand Sponsor/Brand Used       1\n",
       "dtype: int64"
      ]
     },
     "execution_count": 38,
     "metadata": {},
     "output_type": "execute_result"
    }
   ],
   "source": [
    "df.isnull().sum()"
   ]
  },
  {
   "cell_type": "code",
   "execution_count": 40,
   "id": "fd444b93-c28e-49e0-b868-15ee0fa8ae35",
   "metadata": {},
   "outputs": [
    {
     "data": {
      "text/plain": [
       "0"
      ]
     },
     "execution_count": 40,
     "metadata": {},
     "output_type": "execute_result"
    }
   ],
   "source": [
    "df.duplicated().sum()\n"
   ]
  },
  {
   "cell_type": "code",
   "execution_count": null,
   "id": "9a2177bc-93f5-4613-ab50-86fcd6660ff2",
   "metadata": {},
   "outputs": [],
   "source": []
  }
 ],
 "metadata": {
  "kernelspec": {
   "display_name": "Python 3 (ipykernel)",
   "language": "python",
   "name": "python3"
  },
  "language_info": {
   "codemirror_mode": {
    "name": "ipython",
    "version": 3
   },
   "file_extension": ".py",
   "mimetype": "text/x-python",
   "name": "python",
   "nbconvert_exporter": "python",
   "pygments_lexer": "ipython3",
   "version": "3.12.4"
  }
 },
 "nbformat": 4,
 "nbformat_minor": 5
}
